{
  "nbformat": 4,
  "nbformat_minor": 0,
  "metadata": {
    "kernelspec": {
      "display_name": "Python [default]",
      "language": "python",
      "name": "python3"
    },
    "language_info": {
      "codemirror_mode": {
        "name": "ipython",
        "version": 3
      },
      "file_extension": ".py",
      "mimetype": "text/x-python",
      "name": "python",
      "nbconvert_exporter": "python",
      "pygments_lexer": "ipython3",
      "version": "3.6.4"
    },
    "colab": {
      "name": "Part 2 - Neural Networks in PyTorch (Exercises).ipynb",
      "provenance": []
    }
  },
  "cells": [
    {
      "cell_type": "markdown",
      "metadata": {
        "id": "qfhr-KiIRUQ6"
      },
      "source": [
        "# Neural networks with PyTorch\n",
        "\n",
        "Deep learning networks tend to be massive with dozens or hundreds of layers, that's where the term \"deep\" comes from. You can build one of these deep networks using only weight matrices as we did in the previous notebook, but in general it's very cumbersome and difficult to implement. PyTorch has a nice module `nn` that provides a nice way to efficiently build large neural networks."
      ]
    },
    {
      "cell_type": "code",
      "metadata": {
        "collapsed": true,
        "id": "KpfBKvsRRUQ8"
      },
      "source": [
        "# Import necessary packages\n",
        "\n",
        "%matplotlib inline\n",
        "%config InlineBackend.figure_format = 'retina'\n",
        "\n",
        "import numpy as np\n",
        "import torch\n",
        "\n",
        "import helper\n",
        "\n",
        "import matplotlib.pyplot as plt"
      ],
      "execution_count": 1,
      "outputs": []
    },
    {
      "cell_type": "markdown",
      "metadata": {
        "id": "kxZ3d_xLRUQ9"
      },
      "source": [
        "\n",
        "Now we're going to build a larger network that can solve a (formerly) difficult problem, identifying text in an image. Here we'll use the MNIST dataset which consists of greyscale handwritten digits. Each image is 28x28 pixels, you can see a sample below\n",
        "\n",
        "<img src='https://github.com/nikhilbhide/deep-learning-v2-pytorch/blob/master/intro-to-pytorch/assets/mnist.png?raw=1'>\n",
        "\n",
        "Our goal is to build a neural network that can take one of these images and predict the digit in the image.\n",
        "\n",
        "First up, we need to get our dataset. This is provided through the `torchvision` package. The code below will download the MNIST dataset, then create training and test datasets for us. Don't worry too much about the details here, you'll learn more about this later."
      ]
    },
    {
      "cell_type": "code",
      "metadata": {
        "id": "VHl8zRjTRUQ9"
      },
      "source": [
        "# The MNIST datasets are hosted on yann.lecun.com that has moved under CloudFlare protection\n",
        "# Run this script to enable the datasets download\n",
        "# Reference: https://github.com/pytorch/vision/issues/1938\n",
        "\n",
        "from six.moves import urllib\n",
        "opener = urllib.request.build_opener()\n",
        "opener.addheaders = [('User-agent', 'Mozilla/5.0')]\n",
        "urllib.request.install_opener(opener)"
      ],
      "execution_count": 2,
      "outputs": []
    },
    {
      "cell_type": "code",
      "metadata": {
        "collapsed": true,
        "id": "qEJ9QljMRUQ-"
      },
      "source": [
        "### Run this cell\n",
        "\n",
        "from torchvision import datasets, transforms\n",
        "\n",
        "# Define a transform to normalize the data\n",
        "transform = transforms.Compose([transforms.ToTensor(),\n",
        "                              transforms.Normalize((0.5,), (0.5,)),\n",
        "                              ])\n",
        "\n",
        "# Download and load the training data\n",
        "trainset = datasets.MNIST('~/.pytorch/MNIST_data/', download=True, train=True, transform=transform)\n",
        "trainloader = torch.utils.data.DataLoader(trainset, batch_size=64, shuffle=True)"
      ],
      "execution_count": 4,
      "outputs": []
    },
    {
      "cell_type": "markdown",
      "metadata": {
        "id": "y3o0Lg2fRUQ-"
      },
      "source": [
        "We have the training data loaded into `trainloader` and we make that an iterator with `iter(trainloader)`. Later, we'll use this to loop through the dataset for training, like\n",
        "\n",
        "```python\n",
        "for image, label in trainloader:\n",
        "    ## do things with images and labels\n",
        "```\n",
        "\n",
        "You'll notice I created the `trainloader` with a batch size of 64, and `shuffle=True`. The batch size is the number of images we get in one iteration from the data loader and pass through our network, often called a *batch*. And `shuffle=True` tells it to shuffle the dataset every time we start going through the data loader again. But here I'm just grabbing the first batch so we can check out the data. We can see below that `images` is just a tensor with size `(64, 1, 28, 28)`. So, 64 images per batch, 1 color channel, and 28x28 images."
      ]
    },
    {
      "cell_type": "code",
      "metadata": {
        "collapsed": true,
        "colab": {
          "base_uri": "https://localhost:8080/"
        },
        "id": "k7X7EnJBRUQ_",
        "outputId": "f5caa284-bdd2-441f-fc8f-f28788518dbb"
      },
      "source": [
        "dataiter = iter(trainloader)\n",
        "images, labels = dataiter.next()\n",
        "print(type(images))\n",
        "print(images.shape)\n",
        "print(labels.shape)"
      ],
      "execution_count": 5,
      "outputs": [
        {
          "output_type": "stream",
          "text": [
            "<class 'torch.Tensor'>\n",
            "torch.Size([64, 1, 28, 28])\n",
            "torch.Size([64])\n"
          ],
          "name": "stdout"
        }
      ]
    },
    {
      "cell_type": "markdown",
      "metadata": {
        "id": "Hjfp-NZvRURA"
      },
      "source": [
        "This is what one of the images looks like. "
      ]
    },
    {
      "cell_type": "code",
      "metadata": {
        "collapsed": true,
        "colab": {
          "base_uri": "https://localhost:8080/",
          "height": 265
        },
        "id": "QzKsK_PyRURA",
        "outputId": "4fa889e7-429a-4d47-9422-fda08d5c2b53"
      },
      "source": [
        "plt.imshow(images[63].numpy().squeeze(), cmap='Greys_r');"
      ],
      "execution_count": 12,
      "outputs": [
        {
          "output_type": "display_data",
          "data": {
            "image/png": "[encoded data removed]",
            "text/plain": [
              "<Figure size 432x288 with 1 Axes>"
            ]
          },
          "metadata": {
            "tags": [],
            "image/png": {
              "width": 251,
              "height": 248
            },
            "needs_background": "light"
          }
        }
      ]
    },
    {
      "cell_type": "markdown",
      "metadata": {
        "id": "G0q5CSkORURB"
      },
      "source": [
        "First, let's try to build a simple network for this dataset using weight matrices and matrix multiplications. Then, we'll see how to do it using PyTorch's `nn` module which provides a much more convenient and powerful method for defining network architectures.\n",
        "\n",
        "The networks you've seen so far are called *fully-connected* or *dense* networks. Each unit in one layer is connected to each unit in the next layer. In fully-connected networks, the input to each layer must be a one-dimensional vector (which can be stacked into a 2D tensor as a batch of multiple examples). However, our images are 28x28 2D tensors, so we need to convert them into 1D vectors. Thinking about sizes, we need to convert the batch of images with shape `(64, 1, 28, 28)` to a have a shape of `(64, 784)`, 784 is 28 times 28. This is typically called *flattening*, we flattened the 2D images into 1D vectors.\n",
        "\n",
        "Previously you built a network with one output unit. Here we need 10 output units, one for each digit. We want our network to predict the digit shown in an image, so what we'll do is calculate probabilities that the image is of any one digit or class. This ends up being a discrete probability distribution over the classes (digits) that tells us the most likely class for the image. That means we need 10 output units for the 10 classes (digits). We'll see how to convert the network output into a probability distribution next.\n",
        "\n",
        "> **Exercise:** Flatten the batch of images `images`. Then build a multi-layer network with 784 input units, 256 hidden units, and 10 output units using random tensors for the weights and biases. For now, use a sigmoid activation for the hidden layer. Leave the output layer without an activation, we'll add one that gives us a probability distribution next."
      ]
    },
    {
      "cell_type": "code",
      "metadata": {
        "collapsed": true,
        "colab": {
          "base_uri": "https://localhost:8080/"
        },
        "id": "uj7BhfRBRURB",
        "outputId": "d645d876-d495-4263-9ea9-8bc5f9ca3579"
      },
      "source": [
        "## Your solution\n",
        "from torch import nn\n",
        "m = nn.Sigmoid()\n",
        "\n",
        "print(images.shape)\n",
        "print(images.view(64,784))\n",
        "images = images.view(64,784)\n",
        "n_hidden = 256 #number of hidden units\n",
        "n_output = 10  #number of output unis\n",
        "# create W1 tensor of size 784,256\n",
        "W1 = torch.randn(784, 256)\n",
        "W2 = torch.rand(256,10)\n",
        "# create B1 tensor of size 1,256\n",
        "B1 = torch.randn(1, 256)\n",
        "B2 = torch.randn(1, 10)\n",
        "H1 =  m(images.matmul(W1)+B1)\n",
        "\n",
        "out = H1.matmul(W2)+B2\n"
      ],
      "execution_count": 14,
      "outputs": [
        {
          "output_type": "stream",
          "text": [
            "torch.Size([64, 784])\n",
            "tensor([[-1., -1., -1.,  ..., -1., -1., -1.],\n",
            "        [-1., -1., -1.,  ..., -1., -1., -1.],\n",
            "        [-1., -1., -1.,  ..., -1., -1., -1.],\n",
            "        ...,\n",
            "        [-1., -1., -1.,  ..., -1., -1., -1.],\n",
            "        [-1., -1., -1.,  ..., -1., -1., -1.],\n",
            "        [-1., -1., -1.,  ..., -1., -1., -1.]])\n"
          ],
          "name": "stdout"
        }
      ]
    },
    {
      "cell_type": "markdown",
      "metadata": {
        "id": "i58YJ2wNRURC"
      },
      "source": [
        "Now we have 10 outputs for our network. We want to pass in an image to our network and get out a probability distribution over the classes that tells us the likely class(es) the image belongs to. Something that looks like this:\n",
        "<img src='https://github.com/nikhilbhide/deep-learning-v2-pytorch/blob/master/intro-to-pytorch/assets/image_distribution.png?raw=1' width=500px>\n",
        "\n",
        "Here we see that the probability for each class is roughly the same. This is representing an untrained network, it hasn't seen any data yet so it just returns a uniform distribution with equal probabilities for each class.\n",
        "\n",
        "To calculate this probability distribution, we often use the [**softmax** function](https://en.wikipedia.org/wiki/Softmax_function). Mathematically this looks like\n",
        "\n",
        "$$\n",
        "\\Large \\sigma(x_i) = \\cfrac{e^{x_i}}{\\sum_k^K{e^{x_k}}}\n",
        "$$\n",
        "\n",
        "What this does is squish each input $x_i$ between 0 and 1 and normalizes the values to give you a proper probability distribution where the probabilites sum up to one.\n",
        "\n",
        "> **Exercise:** Implement a function `softmax` that performs the softmax calculation and returns probability distributions for each example in the batch. Note that you'll need to pay attention to the shapes when doing this. If you have a tensor `a` with shape `(64, 10)` and a tensor `b` with shape `(64,)`, doing `a/b` will give you an error because PyTorch will try to do the division across the columns (called broadcasting) but you'll get a size mismatch. The way to think about this is for each of the 64 examples, you only want to divide by one value, the sum in the denominator. So you need `b` to have a shape of `(64, 1)`. This way PyTorch will divide the 10 values in each row of `a` by the one value in each row of `b`. Pay attention to how you take the sum as well. You'll need to define the `dim` keyword in `torch.sum`. Setting `dim=0` takes the sum across the rows while `dim=1` takes the sum across the columns."
      ]
    },
    {
      "cell_type": "code",
      "metadata": {
        "collapsed": true,
        "colab": {
          "base_uri": "https://localhost:8080/"
        },
        "id": "HdL0lLDaRURD",
        "outputId": "73762a7c-60fb-4112-defa-6be02d059020"
      },
      "source": [
        "def softmax(x):\n",
        "    \"\"\" Softmax activation function \n",
        "    \n",
        "        Arguments\n",
        "        ---------\n",
        "        x: torch.Tensor\n",
        "    \"\"\"\n",
        "    print(x)\n",
        "    return 1/(torch.exp(x))\n",
        "\n",
        "# Here, out should be the output of the network in the previous excercise with shape (64,10)\n",
        "m = nn.Softmax(dim=1)\n",
        "probabilities = m(out)\n",
        "print(out)\n",
        "# Does it have the right shape? Should be (64, 10)\n",
        "print(probabilities.shape)\n",
        "# Does it sum to 1?\n",
        "print(probabilities.sum(dim=1))"
      ],
      "execution_count": 17,
      "outputs": [
        {
          "output_type": "stream",
          "text": [
            "tensor([[62.6743, 60.9653, 64.6417, 67.2826, 62.3396, 62.1491, 56.2694, 62.6460,\n",
            "         63.8391, 67.3514],\n",
            "        [63.2957, 63.3571, 63.9184, 65.2785, 60.9975, 62.4710, 55.7551, 64.2474,\n",
            "         61.5460, 65.9395],\n",
            "        [66.1806, 64.6204, 65.3254, 69.8727, 65.4059, 65.8881, 60.1307, 64.0262,\n",
            "         66.1025, 69.6212],\n",
            "        [59.6259, 59.8885, 60.6684, 61.6444, 59.5549, 58.8348, 55.8397, 59.1495,\n",
            "         60.2645, 60.9873],\n",
            "        [66.3919, 68.8313, 71.9181, 70.2725, 65.8737, 69.4956, 61.8757, 69.6873,\n",
            "         66.9450, 69.1724],\n",
            "        [63.2215, 66.3473, 64.5402, 64.4869, 59.1899, 61.6374, 58.9961, 64.5495,\n",
            "         60.7295, 65.6245],\n",
            "        [69.2524, 67.6040, 69.2004, 68.9265, 66.6163, 67.1567, 59.6676, 68.9537,\n",
            "         65.0303, 71.1107],\n",
            "        [61.7607, 59.5809, 60.2216, 62.9629, 57.3188, 58.3461, 52.7552, 57.7072,\n",
            "         58.7147, 61.6051],\n",
            "        [61.1189, 61.2411, 61.9452, 63.2205, 61.9463, 62.4851, 54.8588, 56.8041,\n",
            "         57.8152, 62.2248],\n",
            "        [61.1107, 60.5125, 60.1906, 64.3094, 56.8874, 63.2466, 53.6196, 61.5019,\n",
            "         59.6078, 61.8412],\n",
            "        [62.5379, 59.1321, 58.2252, 64.1273, 55.9532, 59.3600, 52.8302, 58.6433,\n",
            "         57.3059, 59.8150],\n",
            "        [61.5824, 64.0198, 62.5804, 66.8501, 57.6403, 63.7687, 53.0039, 61.5498,\n",
            "         63.4268, 66.8786],\n",
            "        [58.9419, 55.8877, 56.8939, 62.0247, 55.9601, 57.9362, 51.3712, 59.4273,\n",
            "         55.8335, 60.3555],\n",
            "        [60.9033, 58.6393, 58.0874, 64.0108, 57.8838, 60.1508, 52.6997, 60.8731,\n",
            "         60.1552, 62.1208],\n",
            "        [61.9132, 59.1292, 58.9133, 62.5733, 58.4847, 58.6301, 54.8739, 58.9514,\n",
            "         59.7807, 63.6405],\n",
            "        [59.7202, 58.5801, 60.3364, 60.6971, 57.0480, 57.6966, 53.3158, 57.5381,\n",
            "         58.2960, 58.1471],\n",
            "        [61.9348, 63.3491, 64.9995, 67.2130, 63.3159, 63.9325, 56.1937, 64.3549,\n",
            "         60.9568, 63.6587],\n",
            "        [66.2402, 66.8054, 62.0659, 63.2868, 65.1647, 64.5791, 58.5248, 59.6973,\n",
            "         62.1726, 66.3682],\n",
            "        [64.4226, 61.2400, 61.7285, 64.3745, 59.7240, 60.0553, 56.6326, 61.6959,\n",
            "         59.3371, 61.6117],\n",
            "        [60.8033, 59.2313, 60.9399, 62.2270, 62.2508, 55.2614, 54.7512, 57.0472,\n",
            "         58.1357, 59.1898],\n",
            "        [66.0008, 66.7854, 66.7646, 68.0352, 62.8032, 66.2490, 60.9787, 67.1012,\n",
            "         66.2907, 69.2946],\n",
            "        [64.8884, 62.0455, 65.5270, 66.7026, 64.5191, 63.8300, 58.8390, 59.0629,\n",
            "         62.7040, 69.3097],\n",
            "        [57.7293, 55.8036, 58.3307, 63.6409, 54.6876, 59.9108, 50.7972, 58.1379,\n",
            "         57.4597, 60.6222],\n",
            "        [68.1479, 65.3399, 66.8114, 69.2981, 67.6537, 64.7510, 61.0036, 64.9456,\n",
            "         65.7580, 69.4527],\n",
            "        [63.4560, 59.3798, 58.4937, 63.2654, 59.4994, 58.0454, 56.8158, 59.1557,\n",
            "         61.6561, 62.8620],\n",
            "        [64.1789, 62.2055, 63.6428, 65.6224, 63.4886, 62.0063, 57.8665, 61.1698,\n",
            "         63.8685, 66.5987],\n",
            "        [64.7897, 62.9629, 63.3659, 66.6098, 65.3673, 61.5071, 58.4412, 63.8035,\n",
            "         60.9955, 61.6282],\n",
            "        [63.3807, 61.0974, 60.9156, 66.0969, 63.9507, 60.2202, 57.9134, 61.1883,\n",
            "         61.1812, 64.1411],\n",
            "        [63.1455, 60.8570, 62.3389, 63.0751, 60.7240, 60.8060, 54.9679, 59.6641,\n",
            "         60.1122, 63.6036],\n",
            "        [63.5939, 60.1081, 60.4932, 66.5058, 59.2587, 61.7240, 55.1644, 62.2833,\n",
            "         59.7126, 63.2191],\n",
            "        [68.4080, 68.2203, 68.3339, 69.6225, 66.9089, 63.4471, 61.6270, 65.6085,\n",
            "         64.3136, 69.8362],\n",
            "        [58.8174, 58.4877, 58.2621, 61.0574, 56.7055, 57.5596, 52.5729, 57.0683,\n",
            "         58.0062, 62.5222],\n",
            "        [65.0308, 63.9183, 68.3937, 67.4521, 63.8766, 63.7327, 59.1474, 63.2412,\n",
            "         63.0961, 70.6795],\n",
            "        [65.1474, 64.0246, 65.1180, 64.9085, 64.3244, 60.9138, 57.6138, 62.6782,\n",
            "         62.3737, 66.0516],\n",
            "        [66.2608, 67.4129, 69.8722, 70.4412, 68.0098, 66.5428, 59.8104, 65.8675,\n",
            "         65.6622, 68.4309],\n",
            "        [63.6143, 59.3304, 62.7316, 62.1404, 62.7880, 58.7132, 55.7625, 58.8298,\n",
            "         61.9720, 60.8841],\n",
            "        [57.1510, 56.1876, 57.2864, 58.2980, 55.3362, 52.9695, 53.2594, 55.6767,\n",
            "         59.4251, 56.9352],\n",
            "        [63.3912, 59.2747, 59.6393, 64.0289, 56.2075, 59.4536, 52.7361, 57.7214,\n",
            "         58.0068, 60.3744],\n",
            "        [63.5028, 61.5841, 64.2551, 66.5708, 60.3023, 61.8095, 54.9242, 60.0779,\n",
            "         61.0130, 61.8985],\n",
            "        [66.3494, 65.7058, 66.5532, 67.9447, 65.8380, 64.5192, 61.2378, 61.4665,\n",
            "         64.9298, 69.3050],\n",
            "        [66.8753, 67.0437, 67.7472, 69.2391, 65.1625, 65.2497, 60.6340, 63.9082,\n",
            "         61.9512, 69.7556],\n",
            "        [60.3967, 57.5153, 61.8997, 63.1718, 58.5370, 60.3367, 52.7315, 61.2368,\n",
            "         57.8810, 61.5790],\n",
            "        [61.8435, 59.8992, 59.0505, 66.1071, 59.1667, 60.2435, 53.1952, 60.2169,\n",
            "         60.9974, 63.0486],\n",
            "        [63.5825, 65.1136, 66.6566, 66.5084, 67.0119, 61.1616, 59.8808, 64.2026,\n",
            "         65.1801, 67.1059],\n",
            "        [67.0487, 67.7009, 67.5967, 68.3223, 66.3221, 67.7275, 59.1632, 66.8725,\n",
            "         63.0570, 68.9208],\n",
            "        [65.2063, 62.3378, 66.1258, 64.2820, 64.6782, 61.5707, 56.4127, 64.9586,\n",
            "         60.7943, 65.5284],\n",
            "        [59.8265, 56.7324, 59.2149, 59.6395, 57.1356, 55.0300, 56.3031, 58.6530,\n",
            "         62.0074, 59.1689],\n",
            "        [56.3800, 53.2610, 55.4145, 58.1978, 56.0828, 53.1670, 50.8235, 53.5858,\n",
            "         55.0423, 55.2566],\n",
            "        [59.1304, 57.9594, 61.2399, 61.9186, 58.8327, 56.4039, 56.3731, 58.4952,\n",
            "         57.5067, 62.6280],\n",
            "        [65.4574, 63.1705, 61.8422, 64.3577, 61.4405, 62.6559, 57.7745, 62.1197,\n",
            "         58.7202, 66.6633],\n",
            "        [59.7553, 56.8581, 61.0170, 61.6292, 56.6166, 55.8836, 55.2350, 58.1577,\n",
            "         59.4585, 59.4753],\n",
            "        [60.4481, 60.1767, 60.5097, 64.3938, 62.7144, 60.3951, 55.4632, 59.5271,\n",
            "         59.4218, 63.7444],\n",
            "        [65.0237, 67.9124, 69.3155, 67.7803, 66.1188, 65.2679, 59.8116, 68.1306,\n",
            "         62.8274, 67.2118],\n",
            "        [63.5657, 59.4254, 59.5548, 63.5038, 57.2647, 60.6172, 53.7284, 58.9464,\n",
            "         58.2121, 62.8083],\n",
            "        [61.5470, 66.1858, 65.3379, 64.0775, 62.7112, 63.4687, 57.1753, 63.0809,\n",
            "         61.7716, 64.3108],\n",
            "        [65.6852, 63.2277, 64.5725, 67.1679, 64.8173, 60.5437, 58.0307, 62.6926,\n",
            "         62.8835, 65.3545],\n",
            "        [68.5048, 66.0957, 69.3636, 67.5020, 67.4516, 69.2784, 59.1825, 67.2411,\n",
            "         66.4343, 71.8680],\n",
            "        [67.7087, 68.6557, 71.1405, 68.9729, 68.0207, 67.2332, 60.0660, 65.8982,\n",
            "         64.1626, 69.1636],\n",
            "        [64.8947, 63.6713, 64.4090, 66.5834, 62.5097, 61.6648, 58.5263, 64.0771,\n",
            "         63.6920, 66.9581],\n",
            "        [60.2102, 58.1374, 58.8528, 62.4731, 57.5727, 58.0135, 54.4346, 59.0638,\n",
            "         57.0230, 61.0447],\n",
            "        [60.9686, 59.3392, 60.6093, 64.2574, 59.9317, 59.4190, 55.0515, 61.8331,\n",
            "         59.2003, 62.3145],\n",
            "        [53.8887, 55.7168, 55.9639, 58.9909, 55.8301, 57.1926, 49.8475, 54.3997,\n",
            "         56.5231, 57.9997],\n",
            "        [61.8788, 58.2661, 62.9000, 61.4903, 62.3987, 57.9544, 53.2470, 58.0601,\n",
            "         61.0489, 62.9034],\n",
            "        [68.5006, 68.9432, 67.6645, 68.4856, 64.6992, 65.3637, 57.3790, 67.8059,\n",
            "         66.6098, 66.3274]])\n",
            "torch.Size([64, 10])\n",
            "tensor([1.0000, 1.0000, 1.0000, 1.0000, 1.0000, 1.0000, 1.0000, 1.0000, 1.0000,\n",
            "        1.0000, 1.0000, 1.0000, 1.0000, 1.0000, 1.0000, 1.0000, 1.0000, 1.0000,\n",
            "        1.0000, 1.0000, 1.0000, 1.0000, 1.0000, 1.0000, 1.0000, 1.0000, 1.0000,\n",
            "        1.0000, 1.0000, 1.0000, 1.0000, 1.0000, 1.0000, 1.0000, 1.0000, 1.0000,\n",
            "        1.0000, 1.0000, 1.0000, 1.0000, 1.0000, 1.0000, 1.0000, 1.0000, 1.0000,\n",
            "        1.0000, 1.0000, 1.0000, 1.0000, 1.0000, 1.0000, 1.0000, 1.0000, 1.0000,\n",
            "        1.0000, 1.0000, 1.0000, 1.0000, 1.0000, 1.0000, 1.0000, 1.0000, 1.0000,\n",
            "        1.0000])\n"
          ],
          "name": "stdout"
        }
      ]
    },
    {
      "cell_type": "markdown",
      "metadata": {
        "id": "MdBhZ5cLRURD"
      },
      "source": [
        "## Building networks with PyTorch\n",
        "\n",
        "PyTorch provides a module `nn` that makes building networks much simpler. Here I'll show you how to build the same one as above with 784 inputs, 256 hidden units, 10 output units and a softmax output."
      ]
    },
    {
      "cell_type": "code",
      "metadata": {
        "collapsed": true,
        "id": "diF1qC6LRURE"
      },
      "source": [
        "from torch import nn"
      ],
      "execution_count": null,
      "outputs": []
    },
    {
      "cell_type": "code",
      "metadata": {
        "collapsed": true,
        "id": "d3MBu28GRURE"
      },
      "source": [
        "class Network(nn.Module):\n",
        "    def __init__(self):\n",
        "        super().__init__()\n",
        "        \n",
        "        # Inputs to hidden layer linear transformation\n",
        "        self.hidden = nn.Linear(784, 256)\n",
        "        # Output layer, 10 units - one for each digit\n",
        "        self.output = nn.Linear(256, 10)\n",
        "        \n",
        "        # Define sigmoid activation and softmax output \n",
        "        self.sigmoid = nn.Sigmoid()\n",
        "        self.softmax = nn.Softmax(dim=1)\n",
        "        \n",
        "    def forward(self, x):\n",
        "        # Pass the input tensor through each of our operations\n",
        "        x = self.hidden(x)\n",
        "        x = self.sigmoid(x)\n",
        "        x = self.output(x)\n",
        "        x = self.softmax(x)\n",
        "        \n",
        "        return x"
      ],
      "execution_count": null,
      "outputs": []
    },
    {
      "cell_type": "markdown",
      "metadata": {
        "id": "NhjfVUTDRURE"
      },
      "source": [
        "Let's go through this bit by bit.\n",
        "\n",
        "```python\n",
        "class Network(nn.Module):\n",
        "```\n",
        "\n",
        "Here we're inheriting from `nn.Module`. Combined with `super().__init__()` this creates a class that tracks the architecture and provides a lot of useful methods and attributes. It is mandatory to inherit from `nn.Module` when you're creating a class for your network. The name of the class itself can be anything.\n",
        "\n",
        "```python\n",
        "self.hidden = nn.Linear(784, 256)\n",
        "```\n",
        "\n",
        "This line creates a module for a linear transformation, $x\\mathbf{W} + b$, with 784 inputs and 256 outputs and assigns it to `self.hidden`. The module automatically creates the weight and bias tensors which we'll use in the `forward` method. You can access the weight and bias tensors once the network (`net`) is created with `net.hidden.weight` and `net.hidden.bias`.\n",
        "\n",
        "```python\n",
        "self.output = nn.Linear(256, 10)\n",
        "```\n",
        "\n",
        "Similarly, this creates another linear transformation with 256 inputs and 10 outputs.\n",
        "\n",
        "```python\n",
        "self.sigmoid = nn.Sigmoid()\n",
        "self.softmax = nn.Softmax(dim=1)\n",
        "```\n",
        "\n",
        "Here I defined operations for the sigmoid activation and softmax output. Setting `dim=1` in `nn.Softmax(dim=1)` calculates softmax across the columns.\n",
        "\n",
        "```python\n",
        "def forward(self, x):\n",
        "```\n",
        "\n",
        "PyTorch networks created with `nn.Module` must have a `forward` method defined. It takes in a tensor `x` and passes it through the operations you defined in the `__init__` method.\n",
        "\n",
        "```python\n",
        "x = self.hidden(x)\n",
        "x = self.sigmoid(x)\n",
        "x = self.output(x)\n",
        "x = self.softmax(x)\n",
        "```\n",
        "\n",
        "Here the input tensor `x` is passed through each operation and reassigned to `x`. We can see that the input tensor goes through the hidden layer, then a sigmoid function, then the output layer, and finally the softmax function. It doesn't matter what you name the variables here, as long as the inputs and outputs of the operations match the network architecture you want to build. The order in which you define things in the `__init__` method doesn't matter, but you'll need to sequence the operations correctly in the `forward` method.\n",
        "\n",
        "Now we can create a `Network` object."
      ]
    },
    {
      "cell_type": "code",
      "metadata": {
        "collapsed": true,
        "id": "UdMrNFZqRURF"
      },
      "source": [
        "# Create the network and look at it's text representation\n",
        "model = Network()\n",
        "model"
      ],
      "execution_count": null,
      "outputs": []
    },
    {
      "cell_type": "markdown",
      "metadata": {
        "id": "kwptU8M2RURF"
      },
      "source": [
        "You can define the network somewhat more concisely and clearly using the `torch.nn.functional` module. This is the most common way you'll see networks defined as many operations are simple element-wise functions. We normally import this module as `F`, `import torch.nn.functional as F`."
      ]
    },
    {
      "cell_type": "code",
      "metadata": {
        "collapsed": true,
        "id": "lXDnaQ3mRURG"
      },
      "source": [
        "import torch.nn.functional as F\n",
        "\n",
        "class Network(nn.Module):\n",
        "    def __init__(self):\n",
        "        super().__init__()\n",
        "        # Inputs to hidden layer linear transformation\n",
        "        self.hidden = nn.Linear(784, 256)\n",
        "        # Output layer, 10 units - one for each digit\n",
        "        self.output = nn.Linear(256, 10)\n",
        "        \n",
        "    def forward(self, x):\n",
        "        # Hidden layer with sigmoid activation\n",
        "        x = F.sigmoid(self.hidden(x))\n",
        "        # Output layer with softmax activation\n",
        "        x = F.softmax(self.output(x), dim=1)\n",
        "        \n",
        "        return x"
      ],
      "execution_count": null,
      "outputs": []
    },
    {
      "cell_type": "markdown",
      "metadata": {
        "id": "uT1VhhlXRURG"
      },
      "source": [
        "### Activation functions\n",
        "\n",
        "So far we've only been looking at the sigmoid activation function, but in general any function can be used as an activation function. The only requirement is that for a network to approximate a non-linear function, the activation functions must be non-linear. Here are a few more examples of common activation functions: Tanh (hyperbolic tangent), and ReLU (rectified linear unit).\n",
        "\n",
        "<img src=\"https://github.com/nikhilbhide/deep-learning-v2-pytorch/blob/master/intro-to-pytorch/assets/activation.png?raw=1\" width=700px>\n",
        "\n",
        "In practice, the ReLU function is used almost exclusively as the activation function for hidden layers."
      ]
    },
    {
      "cell_type": "markdown",
      "metadata": {
        "id": "TkUNHMYtRURG"
      },
      "source": [
        "### Your Turn to Build a Network\n",
        "\n",
        "<img src=\"https://github.com/nikhilbhide/deep-learning-v2-pytorch/blob/master/intro-to-pytorch/assets/mlp_mnist.png?raw=1\" width=600px>\n",
        "\n",
        "> **Exercise:** Create a network with 784 input units, a hidden layer with 128 units and a ReLU activation, then a hidden layer with 64 units and a ReLU activation, and finally an output layer with a softmax activation as shown above. You can use a ReLU activation with the `nn.ReLU` module or `F.relu` function.\n",
        "\n",
        "It's good practice to name your layers by their type of network, for instance 'fc' to represent a fully-connected layer. As you code your solution, use `fc1`, `fc2`, and `fc3` as your layer names."
      ]
    },
    {
      "cell_type": "code",
      "metadata": {
        "collapsed": true,
        "scrolled": true,
        "id": "zhZSRaPXRURG"
      },
      "source": [
        "## Your solution here\n"
      ],
      "execution_count": null,
      "outputs": []
    },
    {
      "cell_type": "markdown",
      "metadata": {
        "id": "V68AtLVkRURH"
      },
      "source": [
        "### Initializing weights and biases\n",
        "\n",
        "The weights and such are automatically initialized for you, but it's possible to customize how they are initialized. The weights and biases are tensors attached to the layer you defined, you can get them with `model.fc1.weight` for instance."
      ]
    },
    {
      "cell_type": "code",
      "metadata": {
        "collapsed": true,
        "id": "gyRercorRURH"
      },
      "source": [
        "print(model.fc1.weight)\n",
        "print(model.fc1.bias)"
      ],
      "execution_count": null,
      "outputs": []
    },
    {
      "cell_type": "markdown",
      "metadata": {
        "id": "KLap6QMGRURH"
      },
      "source": [
        "For custom initialization, we want to modify these tensors in place. These are actually autograd *Variables*, so we need to get back the actual tensors with `model.fc1.weight.data`. Once we have the tensors, we can fill them with zeros (for biases) or random normal values."
      ]
    },
    {
      "cell_type": "code",
      "metadata": {
        "collapsed": true,
        "id": "P7f4f59lRURH"
      },
      "source": [
        "# Set biases to all zeros\n",
        "model.fc1.bias.data.fill_(0)"
      ],
      "execution_count": null,
      "outputs": []
    },
    {
      "cell_type": "code",
      "metadata": {
        "collapsed": true,
        "id": "eKsvo8_SRURH"
      },
      "source": [
        "# sample from random normal with standard dev = 0.01\n",
        "model.fc1.weight.data.normal_(std=0.01)"
      ],
      "execution_count": null,
      "outputs": []
    },
    {
      "cell_type": "markdown",
      "metadata": {
        "id": "weRNn9o9RURI"
      },
      "source": [
        "### Forward pass\n",
        "\n",
        "Now that we have a network, let's see what happens when we pass in an image."
      ]
    },
    {
      "cell_type": "code",
      "metadata": {
        "collapsed": true,
        "id": "1r9Fnjf0RURI"
      },
      "source": [
        "# Grab some data \n",
        "dataiter = iter(trainloader)\n",
        "images, labels = dataiter.next()\n",
        "\n",
        "# Resize images into a 1D vector, new shape is (batch size, color channels, image pixels) \n",
        "images.resize_(64, 1, 784)\n",
        "# or images.resize_(images.shape[0], 1, 784) to automatically get batch size\n",
        "\n",
        "# Forward pass through the network\n",
        "img_idx = 0\n",
        "ps = model.forward(images[img_idx,:])\n",
        "\n",
        "img = images[img_idx]\n",
        "helper.view_classify(img.view(1, 28, 28), ps)"
      ],
      "execution_count": null,
      "outputs": []
    },
    {
      "cell_type": "markdown",
      "metadata": {
        "id": "UdAALc8tRURI"
      },
      "source": [
        "As you can see above, our network has basically no idea what this digit is. It's because we haven't trained it yet, all the weights are random!\n",
        "\n",
        "### Using `nn.Sequential`\n",
        "\n",
        "PyTorch provides a convenient way to build networks like this where a tensor is passed sequentially through operations, `nn.Sequential` ([documentation](https://pytorch.org/docs/master/nn.html#torch.nn.Sequential)). Using this to build the equivalent network:"
      ]
    },
    {
      "cell_type": "code",
      "metadata": {
        "collapsed": true,
        "id": "Ah_BVXLsRURI"
      },
      "source": [
        "# Hyperparameters for our network\n",
        "input_size = 784\n",
        "hidden_sizes = [128, 64]\n",
        "output_size = 10\n",
        "\n",
        "# Build a feed-forward network\n",
        "model = nn.Sequential(nn.Linear(input_size, hidden_sizes[0]),\n",
        "                      nn.ReLU(),\n",
        "                      nn.Linear(hidden_sizes[0], hidden_sizes[1]),\n",
        "                      nn.ReLU(),\n",
        "                      nn.Linear(hidden_sizes[1], output_size),\n",
        "                      nn.Softmax(dim=1))\n",
        "print(model)\n",
        "\n",
        "# Forward pass through the network and display output\n",
        "images, labels = next(iter(trainloader))\n",
        "images.resize_(images.shape[0], 1, 784)\n",
        "ps = model.forward(images[0,:])\n",
        "helper.view_classify(images[0].view(1, 28, 28), ps)"
      ],
      "execution_count": null,
      "outputs": []
    },
    {
      "cell_type": "markdown",
      "metadata": {
        "id": "ASQWNEStRURI"
      },
      "source": [
        "Here our model is the same as before: 784 input units, a hidden layer with 128 units, ReLU activation, 64 unit hidden layer, another ReLU, then the output layer with 10 units, and the softmax output.\n",
        "\n",
        "The operations are available by passing in the appropriate index. For example, if you want to get first Linear operation and look at the weights, you'd use `model[0]`."
      ]
    },
    {
      "cell_type": "code",
      "metadata": {
        "collapsed": true,
        "id": "V0v5MrzYRURJ"
      },
      "source": [
        "print(model[0])\n",
        "model[0].weight"
      ],
      "execution_count": null,
      "outputs": []
    },
    {
      "cell_type": "markdown",
      "metadata": {
        "id": "3ZSaUk8pRURJ"
      },
      "source": [
        "You can also pass in an `OrderedDict` to name the individual layers and operations, instead of using incremental integers. Note that dictionary keys must be unique, so _each operation must have a different name_."
      ]
    },
    {
      "cell_type": "code",
      "metadata": {
        "collapsed": true,
        "id": "elwtxB83RURJ"
      },
      "source": [
        "from collections import OrderedDict\n",
        "model = nn.Sequential(OrderedDict([\n",
        "                      ('fc1', nn.Linear(input_size, hidden_sizes[0])),\n",
        "                      ('relu1', nn.ReLU()),\n",
        "                      ('fc2', nn.Linear(hidden_sizes[0], hidden_sizes[1])),\n",
        "                      ('relu2', nn.ReLU()),\n",
        "                      ('output', nn.Linear(hidden_sizes[1], output_size)),\n",
        "                      ('softmax', nn.Softmax(dim=1))]))\n",
        "model"
      ],
      "execution_count": null,
      "outputs": []
    },
    {
      "cell_type": "markdown",
      "metadata": {
        "id": "0BZVQ8uKRURJ"
      },
      "source": [
        "Now you can access layers either by integer or the name"
      ]
    },
    {
      "cell_type": "code",
      "metadata": {
        "collapsed": true,
        "id": "1tL5oqf_RURJ"
      },
      "source": [
        "print(model[0])\n",
        "print(model.fc1)"
      ],
      "execution_count": null,
      "outputs": []
    },
    {
      "cell_type": "markdown",
      "metadata": {
        "id": "qoPh_tnKRURJ"
      },
      "source": [
        "In the next notebook, we'll see how we can train a neural network to accuractly predict the numbers appearing in the MNIST images."
      ]
    }
  ]
}